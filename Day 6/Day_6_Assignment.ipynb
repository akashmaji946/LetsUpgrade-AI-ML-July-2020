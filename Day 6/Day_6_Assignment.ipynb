{
 "cells": [
  {
   "cell_type": "markdown",
   "metadata": {},
   "source": [
    "# Answer 1"
   ]
  },
  {
   "cell_type": "code",
   "execution_count": 27,
   "metadata": {},
   "outputs": [
    {
     "name": "stdout",
     "output_type": "stream",
     "text": [
      "Enter the email address:akashmaji@letsupgrade.in\n",
      "The email address is: akashmaji@letsupgrade.in\n",
      "The company name is: letsupgrade\n"
     ]
    }
   ],
   "source": [
    "#get the email\n",
    "email = input(\"Enter the email address:\")\n",
    "print(\"The email address is:\", email)\n",
    "\n",
    "#getting the index of @ and .\n",
    "index1 = email.index(\"@\")\n",
    "index2 = email.index(\".\")\n",
    "\n",
    "#subsetting the email and printing company name\n",
    "company = email[index1 + 1:index2]\n",
    "print(\"The company name is:\", company)"
   ]
  },
  {
   "cell_type": "code",
   "execution_count": null,
   "metadata": {},
   "outputs": [],
   "source": []
  },
  {
   "cell_type": "markdown",
   "metadata": {},
   "source": [
    "# Answer 2"
   ]
  },
  {
   "cell_type": "code",
   "execution_count": 28,
   "metadata": {},
   "outputs": [
    {
     "name": "stdout",
     "output_type": "stream",
     "text": [
      "Enter a list of items separated by comma:banana,apple,guava,cherry,mango,orange\n",
      "The item list is:\n",
      "banana,apple,guava,cherry,mango,orange\n",
      "\n",
      "The separated items are:\n",
      "banana\n",
      "apple\n",
      "guava\n",
      "cherry\n",
      "mango\n",
      "orange\n",
      "\n",
      "The sorted list is:\n",
      "apple,banana,cherry,guava,mango,orange\n"
     ]
    }
   ],
   "source": [
    "#getting the list\n",
    "items = input(\"Enter a list of items separated by comma:\")\n",
    "print(\"The item list is:\")\n",
    "print(items)\n",
    "items_separated = items.split(\",\")\n",
    "print()\n",
    "\n",
    "#printing the items\n",
    "print(\"The separated items are:\")\n",
    "for item in items_separated:\n",
    "    print(item)\n",
    "    \n",
    "#sorting the list\n",
    "items_separated.sort()\n",
    "print()\n",
    "\n",
    "#printing the list in a single line\n",
    "print(\"The sorted list is:\")\n",
    "print(\",\".join(items_separated))"
   ]
  },
  {
   "cell_type": "code",
   "execution_count": null,
   "metadata": {},
   "outputs": [],
   "source": []
  },
  {
   "cell_type": "markdown",
   "metadata": {},
   "source": [
    "# Answer 3"
   ]
  },
  {
   "cell_type": "markdown",
   "metadata": {},
   "source": [
    "### Set is an unordered collection of objects\n",
    "#### The following are the properties of set\n",
    "- unordered\n",
    "- unindexable\n",
    "- does not allow duplicates\n",
    "- reduced form of dictionary\n",
    "- contains homogenous obejects"
   ]
  },
  {
   "cell_type": "code",
   "execution_count": 14,
   "metadata": {},
   "outputs": [
    {
     "name": "stdout",
     "output_type": "stream",
     "text": [
      "{'Suraj', 'Akash', 'Mithu', 'Anup'}\n"
     ]
    }
   ],
   "source": [
    "#create a set using {} notation\n",
    "my_set = {\"Akash\", \"Anup\", \"Mithu\", \"Suraj\"}\n",
    "print(my_set)"
   ]
  },
  {
   "cell_type": "code",
   "execution_count": 15,
   "metadata": {},
   "outputs": [
    {
     "name": "stdout",
     "output_type": "stream",
     "text": [
      "Suraj\n",
      "Akash\n",
      "Mithu\n",
      "Anup\n"
     ]
    }
   ],
   "source": [
    "# accessing items in a set\n",
    "for i in my_set:\n",
    "    print(i)"
   ]
  },
  {
   "cell_type": "code",
   "execution_count": 16,
   "metadata": {},
   "outputs": [
    {
     "name": "stdout",
     "output_type": "stream",
     "text": [
      "True\n",
      "False\n"
     ]
    }
   ],
   "source": [
    "# using membership opeartor\n",
    "print(\"Akash\" in my_set)\n",
    "print(\"Anoop\" in my_set)"
   ]
  },
  {
   "cell_type": "code",
   "execution_count": 17,
   "metadata": {},
   "outputs": [
    {
     "name": "stdout",
     "output_type": "stream",
     "text": [
      "{'Sky', 'Mithu', 'Anup', 'Suraj', 'Akash'}\n"
     ]
    }
   ],
   "source": [
    "# adding more elements to a set\n",
    "my_set.add(\"Sky\")\n",
    "print(my_set)"
   ]
  },
  {
   "cell_type": "code",
   "execution_count": 18,
   "metadata": {},
   "outputs": [
    {
     "name": "stdout",
     "output_type": "stream",
     "text": [
      "{'Sky', 'Mithu', 'Green', 'Anup', 'Suraj', 'Akash', 'Blue'}\n"
     ]
    }
   ],
   "source": [
    "# adding more eolements at one go\n",
    "my_set.update([\"Blue\", \"Green\"])\n",
    "print(my_set)"
   ]
  },
  {
   "cell_type": "code",
   "execution_count": 19,
   "metadata": {},
   "outputs": [
    {
     "name": "stdout",
     "output_type": "stream",
     "text": [
      "7\n"
     ]
    }
   ],
   "source": [
    "# print number of items\n",
    "print(len(my_set))"
   ]
  },
  {
   "cell_type": "code",
   "execution_count": 20,
   "metadata": {},
   "outputs": [
    {
     "name": "stdout",
     "output_type": "stream",
     "text": [
      "{'Sky', 'Mithu', 'Green', 'Anup', 'Suraj', 'Blue'}\n"
     ]
    }
   ],
   "source": [
    "# removing one item if it exists\n",
    "my_set.remove(\"Akash\")\n",
    "print(my_set)"
   ]
  },
  {
   "cell_type": "code",
   "execution_count": 21,
   "metadata": {},
   "outputs": [
    {
     "name": "stdout",
     "output_type": "stream",
     "text": [
      "{'Sky', 'Mithu', 'Green', 'Anup', 'Suraj', 'Blue'}\n"
     ]
    }
   ],
   "source": [
    "# removing if item does not exist\n",
    "my_set.discard(\"Pink\")\n",
    "print(my_set)"
   ]
  },
  {
   "cell_type": "code",
   "execution_count": 23,
   "metadata": {},
   "outputs": [
    {
     "name": "stdout",
     "output_type": "stream",
     "text": [
      "{'Sky', 'Mithu', 'Green', 'Anup', 'Suraj', 'Blue'}\n",
      "{'Mithu', 'Green', 'Anup', 'Suraj', 'Blue'}\n"
     ]
    }
   ],
   "source": [
    "# removing any random item\n",
    "print(my_set)\n",
    "my_set.pop()\n",
    "print(my_set)"
   ]
  },
  {
   "cell_type": "code",
   "execution_count": 24,
   "metadata": {},
   "outputs": [
    {
     "ename": "NameError",
     "evalue": "name 'my_set' is not defined",
     "output_type": "error",
     "traceback": [
      "\u001b[1;31m---------------------------------------------------------------------------\u001b[0m",
      "\u001b[1;31mNameError\u001b[0m                                 Traceback (most recent call last)",
      "\u001b[1;32m<ipython-input-24-1e0f12b012fb>\u001b[0m in \u001b[0;36m<module>\u001b[1;34m()\u001b[0m\n\u001b[0;32m      1\u001b[0m \u001b[1;31m# delete the set\u001b[0m\u001b[1;33m\u001b[0m\u001b[1;33m\u001b[0m\u001b[0m\n\u001b[0;32m      2\u001b[0m \u001b[1;32mdel\u001b[0m \u001b[0mmy_set\u001b[0m\u001b[1;33m\u001b[0m\u001b[0m\n\u001b[1;32m----> 3\u001b[1;33m \u001b[0mprint\u001b[0m\u001b[1;33m(\u001b[0m\u001b[0mmy_set\u001b[0m\u001b[1;33m)\u001b[0m\u001b[1;33m\u001b[0m\u001b[0m\n\u001b[0m",
      "\u001b[1;31mNameError\u001b[0m: name 'my_set' is not defined"
     ]
    }
   ],
   "source": [
    "# delete the set\n",
    "del my_set\n",
    "print(my_set)\n"
   ]
  },
  {
   "cell_type": "code",
   "execution_count": 26,
   "metadata": {},
   "outputs": [
    {
     "name": "stdout",
     "output_type": "stream",
     "text": [
      "set()\n"
     ]
    }
   ],
   "source": [
    "# clearing all set elements\n",
    "my_set = {'Mithu', 'Green', 'Anup', 'Suraj', 'Blue'}\n",
    "my_set.clear()\n",
    "print(my_set)"
   ]
  },
  {
   "cell_type": "code",
   "execution_count": null,
   "metadata": {},
   "outputs": [],
   "source": []
  },
  {
   "cell_type": "markdown",
   "metadata": {},
   "source": [
    "# Answer 4"
   ]
  },
  {
   "cell_type": "code",
   "execution_count": 29,
   "metadata": {},
   "outputs": [
    {
     "name": "stdout",
     "output_type": "stream",
     "text": [
      "Enter the list separated by space: 1 3 5 2 4 7 8 9 10\n",
      "Input List: [1, 3, 5, 2, 4, 7, 8, 9, 10]\n",
      "The missing item is: 6\n"
     ]
    }
   ],
   "source": [
    "#getting the list\n",
    "input_list = input(\"Enter the list separated by space: \")\n",
    "input_list = input_list.split(\" \")\n",
    "\n",
    "#converting to int list\n",
    "input_list = [int(i) for i in input_list]\n",
    "\n",
    "#printing the list so inputted\n",
    "print(\"Input List:\", input_list)\n",
    "\n",
    "my_set = [i for i in range(1, len(input_list) + 2)]\n",
    "#logic\n",
    "for i in my_set:\n",
    "    if i not in input_list:\n",
    "        print(\"The missing item is:\", i)\n",
    "        break"
   ]
  },
  {
   "cell_type": "code",
   "execution_count": null,
   "metadata": {},
   "outputs": [],
   "source": []
  },
  {
   "cell_type": "markdown",
   "metadata": {},
   "source": [
    "# Answer 5"
   ]
  },
  {
   "cell_type": "code",
   "execution_count": 30,
   "metadata": {},
   "outputs": [
    {
     "name": "stdout",
     "output_type": "stream",
     "text": [
      "Enter the list separated by space:\n",
      "12 13 15 67 87 12 76 67 99 43 88 99 109 56\n",
      "The answer is:\n",
      "12 13 15 67 87 76 99 43 88 109 56\n"
     ]
    }
   ],
   "source": [
    "# getting the list\n",
    "print(\"Enter the list separated by space:\")\n",
    "my_list = input()\n",
    "my_list = my_list.split(\" \")\n",
    "\n",
    "#creating dict to keep record\n",
    "my_dict = {}\n",
    "\n",
    "#answer stores unique items in order\n",
    "answer = []\n",
    "\n",
    "for item in my_list:\n",
    "    if item not in my_dict:\n",
    "        my_dict[item] = 1\n",
    "        answer.append(item)\n",
    "\n",
    "#print the answer\n",
    "print(\"The answer is:\")\n",
    "print(\" \".join(answer))"
   ]
  },
  {
   "cell_type": "code",
   "execution_count": null,
   "metadata": {},
   "outputs": [],
   "source": []
  },
  {
   "cell_type": "markdown",
   "metadata": {},
   "source": [
    "### Done by Akash Maji, akashmaji946@gmail.com\n",
    "### Day 6 Assignment"
   ]
  },
  {
   "cell_type": "code",
   "execution_count": null,
   "metadata": {},
   "outputs": [],
   "source": []
  }
 ],
 "metadata": {
  "kernelspec": {
   "display_name": "Python 3",
   "language": "python",
   "name": "python3"
  },
  "language_info": {
   "codemirror_mode": {
    "name": "ipython",
    "version": 3
   },
   "file_extension": ".py",
   "mimetype": "text/x-python",
   "name": "python",
   "nbconvert_exporter": "python",
   "pygments_lexer": "ipython3",
   "version": "3.7.0"
  }
 },
 "nbformat": 4,
 "nbformat_minor": 2
}
