{
 "cells": [
  {
   "cell_type": "markdown",
   "metadata": {},
   "source": [
    "# ANSWER NO. 1\n",
    "## Perform arithmetic opertions on two complex numbers\n"
   ]
  },
  {
   "cell_type": "markdown",
   "metadata": {},
   "source": [
    "### Complex numbers support arithmetic operators like-\n",
    "- Addition\n",
    "- Subtraction\n",
    "- Division\n",
    "- Multiplication\n",
    "\n",
    "#### The remaining operations are not supported by it\n",
    "- Exponentiation\n",
    "- Floor Division\n",
    "- Modular division"
   ]
  },
  {
   "cell_type": "code",
   "execution_count": 23,
   "metadata": {},
   "outputs": [
    {
     "ename": "TypeError",
     "evalue": "can't take floor of complex number.",
     "output_type": "error",
     "traceback": [
      "\u001b[1;31m---------------------------------------------------------------------------\u001b[0m",
      "\u001b[1;31mTypeError\u001b[0m                                 Traceback (most recent call last)",
      "\u001b[1;32m<ipython-input-23-e486156e5c6c>\u001b[0m in \u001b[0;36m<module>\u001b[1;34m()\u001b[0m\n\u001b[0;32m      4\u001b[0m \u001b[1;33m\u001b[0m\u001b[0m\n\u001b[0;32m      5\u001b[0m \u001b[1;31m# these operations generate error\u001b[0m\u001b[1;33m\u001b[0m\u001b[1;33m\u001b[0m\u001b[0m\n\u001b[1;32m----> 6\u001b[1;33m \u001b[0mprint\u001b[0m\u001b[1;33m(\u001b[0m\u001b[0ma\u001b[0m \u001b[1;33m//\u001b[0m \u001b[0mb\u001b[0m\u001b[1;33m)\u001b[0m\u001b[1;33m\u001b[0m\u001b[0m\n\u001b[0m\u001b[0;32m      7\u001b[0m \u001b[0mprint\u001b[0m\u001b[1;33m(\u001b[0m\u001b[0ma\u001b[0m \u001b[1;33m%\u001b[0m \u001b[0mb\u001b[0m\u001b[1;33m)\u001b[0m\u001b[1;33m\u001b[0m\u001b[0m\n\u001b[0;32m      8\u001b[0m \u001b[0mprint\u001b[0m\u001b[1;33m(\u001b[0m\u001b[0ma\u001b[0m \u001b[1;33m**\u001b[0m \u001b[0mb\u001b[0m\u001b[1;33m)\u001b[0m\u001b[1;33m\u001b[0m\u001b[0m\n",
      "\u001b[1;31mTypeError\u001b[0m: can't take floor of complex number."
     ]
    }
   ],
   "source": [
    "# lets take two numbers\n",
    "a = 10 + 20j\n",
    "b = 5 + 2j\n",
    "\n",
    "# these operations generate error\n",
    "print(a // b)\n",
    "print(a % b)\n",
    "print(a ** b)"
   ]
  },
  {
   "cell_type": "code",
   "execution_count": 24,
   "metadata": {},
   "outputs": [
    {
     "name": "stdout",
     "output_type": "stream",
     "text": [
      "(15+22j)\n",
      "(5+18j)\n",
      "(10+120j)\n",
      "(3.103448275862069+2.7586206896551726j)\n"
     ]
    }
   ],
   "source": [
    "# lets take two numbers\n",
    "\n",
    "a = 10 + 20j\n",
    "b = 5 + 2j\n",
    "\n",
    "# these operations are allowed\n",
    "\n",
    "print(a + b)\n",
    "print(a - b)\n",
    "print(a * b)\n",
    "print(a / b)\n"
   ]
  },
  {
   "cell_type": "code",
   "execution_count": null,
   "metadata": {},
   "outputs": [],
   "source": []
  },
  {
   "cell_type": "markdown",
   "metadata": {},
   "source": [
    "# ANSWER NO. 2\n",
    "## Range function types(use cases) and sample code"
   ]
  },
  {
   "cell_type": "markdown",
   "metadata": {},
   "source": [
    "\n",
    "*Range Function* can be used to generate a sequence of numbers\n",
    "\n",
    "It can be used in three ways:-\n",
    "\n",
    "1. ___range(start, stop, step)___\n",
    "   This generates a sequence of numbers from ___start___ to ___stop-1___ by a step sixe of ___step___\n",
    "   \n",
    "2. ___range(start, stop)___\n",
    "   This generates a sequence of numbers from ___start___ to ___stop-1___ by a step size of ___1___\n",
    "   \n",
    "3. ___range(stop)___\n",
    "   This generates a sequence of numbers from ___0___ to ___stop-1___ by step size of ___1___\n",
    "   \n",
    "#### Range function generates a generator object which yields a value on each call\n",
    "   \n"
   ]
  },
  {
   "cell_type": "code",
   "execution_count": 25,
   "metadata": {},
   "outputs": [
    {
     "name": "stdout",
     "output_type": "stream",
     "text": [
      "Use case 1\n",
      "Item number 1 is 34\n",
      "Item number 2 is 37\n",
      "Item number 3 is 40\n",
      "Item number 4 is 43\n",
      "Item number 5 is 46\n",
      "Item number 6 is 49\n",
      "Item number 7 is 52\n",
      "Item number 8 is 55\n"
     ]
    }
   ],
   "source": [
    "# Use Case 1\n",
    "print(\"Use case 1\")\n",
    "i = 1\n",
    "for item in range(34, 58, 3):\n",
    "    print(\"Item number\",i,\"is\",item)\n",
    "    i += 1"
   ]
  },
  {
   "cell_type": "code",
   "execution_count": 26,
   "metadata": {},
   "outputs": [
    {
     "name": "stdout",
     "output_type": "stream",
     "text": [
      "Use Case 2\n",
      "Item number 9 is 10\n",
      "Item number 9 is 11\n",
      "Item number 9 is 12\n",
      "Item number 9 is 13\n",
      "Item number 9 is 14\n",
      "Item number 9 is 15\n",
      "Item number 9 is 16\n"
     ]
    }
   ],
   "source": [
    "# Use Case 2\n",
    "print(\"Use Case 2\")\n",
    "for value in range(10, 17):\n",
    "    print(\"Item number\",i,\"is\",value)"
   ]
  },
  {
   "cell_type": "code",
   "execution_count": 27,
   "metadata": {},
   "outputs": [
    {
     "name": "stdout",
     "output_type": "stream",
     "text": [
      "Use Case 3\n",
      "Item number 0 is 0\n",
      "Item number 1 is 1\n",
      "Item number 2 is 2\n",
      "Item number 3 is 3\n",
      "Item number 4 is 4\n",
      "Item number 5 is 5\n",
      "Item number 6 is 6\n",
      "Item number 7 is 7\n",
      "Item number 8 is 8\n",
      "Item number 9 is 9\n"
     ]
    }
   ],
   "source": [
    "# Use Case 3\n",
    "print(\"Use Case 3\")\n",
    "for i in range(10):\n",
    "    print(\"Item number\",i,\"is\",i)"
   ]
  },
  {
   "cell_type": "code",
   "execution_count": null,
   "metadata": {},
   "outputs": [],
   "source": []
  },
  {
   "cell_type": "markdown",
   "metadata": {},
   "source": [
    "# ANSWER NO. 3\n",
    "## Print Multiplication or Division Result Depending Upon Diference"
   ]
  },
  {
   "cell_type": "code",
   "execution_count": 28,
   "metadata": {},
   "outputs": [
    {
     "name": "stdout",
     "output_type": "stream",
     "text": [
      "Multiplication of 100 and 135 is 13500\n"
     ]
    }
   ],
   "source": [
    "# consider two numbers\n",
    "x = 100\n",
    "y = 135\n",
    "\n",
    "# consider difference\n",
    "z = y - x\n",
    "\n",
    "#logic\n",
    "if z > 25:\n",
    "    print(\"Multiplication of\", x, \"and\", y, \"is\", x * y)\n",
    "else:\n",
    "    print(\"Division of\", x , \"and\", y, \"is\", x / y)"
   ]
  },
  {
   "cell_type": "code",
   "execution_count": null,
   "metadata": {},
   "outputs": [],
   "source": []
  },
  {
   "cell_type": "markdown",
   "metadata": {},
   "source": [
    "# ANSWER NO. 4\n",
    "## Printing square of number minus two if number(s) in  a list is even"
   ]
  },
  {
   "cell_type": "code",
   "execution_count": 29,
   "metadata": {},
   "outputs": [
    {
     "name": "stdout",
     "output_type": "stream",
     "text": [
      "Length of list is 10\n",
      "The number is 23\n",
      "Square of 78 minus 2 is 6082\n",
      "Square of 14 minus 2 is 194\n",
      "Square of 96 minus 2 is 9214\n",
      "The number is 109\n",
      "Square of 22 minus 2 is 482\n",
      "The number is 7\n",
      "The number is 3\n",
      "Square of 60 minus 2 is 3598\n",
      "The number is 99\n"
     ]
    }
   ],
   "source": [
    "# my list is initialized\n",
    "\n",
    "my_list = [23, 78, 14, 96, 109, 22, 7, 3, 60, 99]\n",
    "print(\"Length of list is\", len(my_list))\n",
    "\n",
    "for number in my_list:\n",
    "    if number % 2 == 0:\n",
    "        print(\"Square of\", number, \"minus 2 is\", (number ** 2 - 2))\n",
    "    else:\n",
    "        print(\"The number is\", number)"
   ]
  },
  {
   "cell_type": "code",
   "execution_count": null,
   "metadata": {},
   "outputs": [],
   "source": []
  },
  {
   "cell_type": "markdown",
   "metadata": {},
   "source": [
    "# ANSWER No. 5\n",
    "## Print number(s) in a list if number is even and divisible by 7"
   ]
  },
  {
   "cell_type": "code",
   "execution_count": 30,
   "metadata": {},
   "outputs": [
    {
     "name": "stdout",
     "output_type": "stream",
     "text": [
      "Length of list is 10\n",
      "This number is divisible by 2 and greater than 7: 10\n",
      "This number is divisible by 2 and greater than 7: 22\n",
      "This number is divisible by 2 and greater than 7: 98\n",
      "This number is divisible by 2 and greater than 7: 40\n"
     ]
    }
   ],
   "source": [
    "# consider a list\n",
    "\n",
    "my_list = [10, 23, 45, 22, 98, 13, 7, 9, 29, 40]\n",
    "print(\"Length of list is\", len(my_list))\n",
    "\n",
    "# printing the numbers greater than 7 and when divisible by 2\n",
    "for number in my_list:\n",
    "    if number % 2 == 0:\n",
    "        if number > 7:\n",
    "            print(\"This number is divisible by 2 and greater than 7:\", number)\n",
    "        "
   ]
  },
  {
   "cell_type": "code",
   "execution_count": null,
   "metadata": {},
   "outputs": [],
   "source": []
  },
  {
   "cell_type": "markdown",
   "metadata": {},
   "source": [
    "## Day 4 Assignment\n",
    "### Done by AKASH MAJI, akashmaji946@gmail.com"
   ]
  },
  {
   "cell_type": "code",
   "execution_count": null,
   "metadata": {},
   "outputs": [],
   "source": []
  }
 ],
 "metadata": {
  "kernelspec": {
   "display_name": "Python 3",
   "language": "python",
   "name": "python3"
  },
  "language_info": {
   "codemirror_mode": {
    "name": "ipython",
    "version": 3
   },
   "file_extension": ".py",
   "mimetype": "text/x-python",
   "name": "python",
   "nbconvert_exporter": "python",
   "pygments_lexer": "ipython3",
   "version": "3.7.0"
  }
 },
 "nbformat": 4,
 "nbformat_minor": 2
}
