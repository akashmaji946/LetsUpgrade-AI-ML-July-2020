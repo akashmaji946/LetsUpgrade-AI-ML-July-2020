{
 "cells": [
  {
   "cell_type": "markdown",
   "metadata": {},
   "source": [
    "# Answer 1\n",
    "## Program to subtract two complex numbers in Python"
   ]
  },
  {
   "cell_type": "code",
   "execution_count": 1,
   "metadata": {},
   "outputs": [
    {
     "name": "stdout",
     "output_type": "stream",
     "text": [
      "(-1+7j)\n"
     ]
    }
   ],
   "source": [
    "#create two complex variables\n",
    "number_1 = 3 + 2j\n",
    "number_2 = 2 + 9j\n",
    "\n",
    "#store the diffrence\n",
    "difference = number_2 - number_1\n",
    "\n",
    "#print the result\n",
    "print(difference)"
   ]
  },
  {
   "cell_type": "code",
   "execution_count": null,
   "metadata": {},
   "outputs": [],
   "source": []
  },
  {
   "cell_type": "markdown",
   "metadata": {},
   "source": [
    "# Answer 2\n",
    "## Program to find the fourth root of a number"
   ]
  },
  {
   "cell_type": "code",
   "execution_count": 2,
   "metadata": {},
   "outputs": [
    {
     "name": "stdout",
     "output_type": "stream",
     "text": [
      "4.0\n"
     ]
    }
   ],
   "source": [
    "# create the variable holding the number, and the expoent to raise to\n",
    "number = 256\n",
    "exponent = 0.25\n",
    "\n",
    "# find the fourth root using exponentiation operator\n",
    "fourth_root = number ** exponent\n",
    "\n",
    "# print the result\n",
    "print(fourth_root)"
   ]
  },
  {
   "cell_type": "code",
   "execution_count": null,
   "metadata": {},
   "outputs": [],
   "source": []
  },
  {
   "cell_type": "markdown",
   "metadata": {},
   "source": [
    "# Answer 3\n",
    "## Swap two numbers using temporary variable\n",
    "\n"
   ]
  },
  {
   "cell_type": "code",
   "execution_count": 3,
   "metadata": {},
   "outputs": [
    {
     "name": "stdout",
     "output_type": "stream",
     "text": [
      "Before Swap:\n",
      "Boys: 14 Girls: 29\n",
      "After Swap:\n",
      "Boys: 29 Girls: 14\n"
     ]
    }
   ],
   "source": [
    "#create two variables\n",
    "boys = 14\n",
    "girls = 29\n",
    "\n",
    "#before swapping\n",
    "print(\"Before Swap:\")\n",
    "print(\"Boys:\", boys, \"Girls:\", girls)\n",
    "\n",
    "#swap logic using two variables\n",
    "temp = boys\n",
    "boys = girls\n",
    "girls = temp\n",
    "\n",
    "#after swapping\n",
    "print(\"After Swap:\")\n",
    "print(\"Boys:\", boys, \"Girls:\", girls)\n",
    "\n",
    "\n"
   ]
  },
  {
   "cell_type": "code",
   "execution_count": null,
   "metadata": {},
   "outputs": [],
   "source": []
  },
  {
   "cell_type": "markdown",
   "metadata": {},
   "source": [
    "# Answer 4\n",
    "## Swap two numbers without temporary variales\n"
   ]
  },
  {
   "cell_type": "code",
   "execution_count": 4,
   "metadata": {},
   "outputs": [
    {
     "name": "stdout",
     "output_type": "stream",
     "text": [
      "Before Swap:\n",
      "Males: 100 Females: 120\n",
      "After Swap:\n",
      "Males: 120 Females: 100\n"
     ]
    }
   ],
   "source": [
    "#create two variables\n",
    "males = 100\n",
    "females = 120\n",
    "\n",
    "#print before swap\n",
    "print(\"Before Swap:\")\n",
    "print(\"Males:\", males, \"Females:\",  females)\n",
    "\n",
    "#swap logic\n",
    "males = males + females\n",
    "females = males - females\n",
    "males = males - females\n",
    "\n",
    "#print after swap\n",
    "print(\"After Swap:\")\n",
    "print(\"Males:\", males, \"Females:\",  females)"
   ]
  },
  {
   "cell_type": "code",
   "execution_count": null,
   "metadata": {},
   "outputs": [],
   "source": []
  },
  {
   "cell_type": "markdown",
   "metadata": {},
   "source": [
    "# Answer 5\n",
    "## Program to covert fahrenheit to kelvin and celcius both"
   ]
  },
  {
   "cell_type": "code",
   "execution_count": 5,
   "metadata": {},
   "outputs": [
    {
     "name": "stdout",
     "output_type": "stream",
     "text": [
      "32 fahrenhiet equals 273.15 kelvin\n",
      "32 fahrenhiet equals 0.0 celcius\n"
     ]
    }
   ],
   "source": [
    "#take fahrenhiet temperature\n",
    "fahrenhiet = 32\n",
    "\n",
    "#covert to kelvin and print\n",
    "\n",
    "fahrenheit_to_kelvin = (fahrenhiet - 32) * (5 / 9) + 273.15       #formula\n",
    "\n",
    "print(fahrenhiet, \"fahrenhiet equals\", fahrenheit_to_kelvin, \"kelvin\")\n",
    "\n",
    "#convert to celcius and print\n",
    "\n",
    "fahrenheit_to_celcius = (fahrenhiet - 32) * (5 / 9)               #formula\n",
    "\n",
    "print(fahrenhiet, \"fahrenhiet equals\", fahrenheit_to_celcius, \"celcius\")"
   ]
  },
  {
   "cell_type": "code",
   "execution_count": null,
   "metadata": {},
   "outputs": [],
   "source": []
  },
  {
   "cell_type": "markdown",
   "metadata": {},
   "source": [
    "# Answer 6\n",
    "## Program to demonstrate all available data types"
   ]
  },
  {
   "cell_type": "code",
   "execution_count": 6,
   "metadata": {},
   "outputs": [
    {
     "name": "stdout",
     "output_type": "stream",
     "text": [
      "<class 'int'>\n",
      "<class 'float'>\n",
      "<class 'str'>\n",
      "<class 'complex'>\n",
      "<class 'bool'>\n"
     ]
    }
   ],
   "source": [
    "# basic types in python\n",
    "integer = 12\n",
    "floating = 13.45\n",
    "string = \"AKASH loves ML\"\n",
    "compl = 3 + 2j\n",
    "boolean = True\n",
    "\n",
    "#getting types\n",
    "print(type(integer))\n",
    "print(type(floating))\n",
    "print(type(string))\n",
    "print(type(compl))\n",
    "print(type(boolean))"
   ]
  },
  {
   "cell_type": "code",
   "execution_count": null,
   "metadata": {},
   "outputs": [],
   "source": []
  },
  {
   "cell_type": "markdown",
   "metadata": {},
   "source": [
    "# Answer 7\n",
    "## Create a mardown and list steps to create GitHub repo"
   ]
  },
  {
   "cell_type": "markdown",
   "metadata": {},
   "source": [
    "### How to create markdown\n",
    "1. Select the cell after inserting a cell and chose markdown option pressing ESC+M\n",
    "2. Press Shift+Enter after writing markdown text\n",
    "\n",
    "### How to create GitHub repo(as mentioned by Darshan Sir)\n",
    "1. Go to official website [https://github.com/] to create a profile\n",
    "2. Signup using your email and password, and verify your account via mail\n",
    "3. Create a new repo by pressing the green *new* button\n",
    "4. Suitable name the repo, like ___akashmaji946/PythonProjects___\n",
    "5. Create the repo by clicking green ___click___ button\n",
    "6. Add the files and directories to the created repo using *drag and drop*\n",
    "7. Save the changes\n",
    "8. View the changes and files added"
   ]
  },
  {
   "cell_type": "code",
   "execution_count": null,
   "metadata": {},
   "outputs": [],
   "source": []
  },
  {
   "cell_type": "markdown",
   "metadata": {},
   "source": [
    "## Day 3\n",
    "## Assignment Done By Akash Maji, akashmaji946@gmail.com "
   ]
  },
  {
   "cell_type": "code",
   "execution_count": null,
   "metadata": {},
   "outputs": [],
   "source": []
  }
 ],
 "metadata": {
  "kernelspec": {
   "display_name": "Python 3",
   "language": "python",
   "name": "python3"
  },
  "language_info": {
   "codemirror_mode": {
    "name": "ipython",
    "version": 3
   },
   "file_extension": ".py",
   "mimetype": "text/x-python",
   "name": "python",
   "nbconvert_exporter": "python",
   "pygments_lexer": "ipython3",
   "version": "3.7.0"
  }
 },
 "nbformat": 4,
 "nbformat_minor": 2
}
