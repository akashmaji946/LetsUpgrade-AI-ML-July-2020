{
 "cells": [
  {
   "cell_type": "code",
   "execution_count": null,
   "metadata": {},
   "outputs": [],
   "source": []
  },
  {
   "cell_type": "markdown",
   "metadata": {},
   "source": [
    "# ANSWER 1\n",
    "## First 20 prime numbers which are non-even and natural"
   ]
  },
  {
   "cell_type": "code",
   "execution_count": 21,
   "metadata": {},
   "outputs": [
    {
     "name": "stdout",
     "output_type": "stream",
     "text": [
      "The first 20 non-even natural prime numbers are:\n",
      "Prime number 1 is 3\n",
      "Prime number 2 is 5\n",
      "Prime number 3 is 7\n",
      "Prime number 4 is 11\n",
      "Prime number 5 is 13\n",
      "Prime number 6 is 17\n",
      "Prime number 7 is 19\n",
      "Prime number 8 is 23\n",
      "Prime number 9 is 29\n",
      "Prime number 10 is 31\n",
      "Prime number 11 is 37\n",
      "Prime number 12 is 41\n",
      "Prime number 13 is 43\n",
      "Prime number 14 is 47\n",
      "Prime number 15 is 53\n",
      "Prime number 16 is 59\n",
      "Prime number 17 is 61\n",
      "Prime number 18 is 67\n",
      "Prime number 19 is 71\n",
      "Prime number 20 is 73\n"
     ]
    }
   ],
   "source": [
    "primes = []  # list to contain primes\n",
    "count = 0   # keeps number of prime numbers so far added\n",
    "limit = 20   # total number of primes\n",
    "\n",
    "# function to check number is prime or not\n",
    "def is_prime(num):\n",
    "    for i in range(2, num):\n",
    "        if num % i == 0:\n",
    "            return False\n",
    "    return True\n",
    "\n",
    "for num in range(3, 100, 2):    # step is 2 because we want only non-even numbers\n",
    "    if is_prime(num) and count < limit:\n",
    "        primes.append(num)\n",
    "        count += 1\n",
    "        \n",
    "print(\"The first\", limit, \"non-even natural prime numbers are:\")\n",
    "for i in range(limit):\n",
    "    print(\"Prime number\", i+1, \"is\", primes[i])"
   ]
  },
  {
   "cell_type": "code",
   "execution_count": null,
   "metadata": {},
   "outputs": [],
   "source": []
  },
  {
   "cell_type": "markdown",
   "metadata": {},
   "source": [
    "# ANSWER 2\n",
    "## Common 20 string methods"
   ]
  },
  {
   "cell_type": "markdown",
   "metadata": {},
   "source": [
    "___The common 20 string methods with example snippets are___\n",
    "- index()\n",
    "- find()\n",
    "- rfind()\n",
    "- isalpha()\n",
    "- isdigit()\n",
    "- lower()\n",
    "- upper()\n",
    "- swapcase()\n",
    "- title()\n",
    "- capitalize()\n",
    "- isdecimal()\n",
    "- isalnum()\n",
    "- count()\n",
    "- startswith()\n",
    "- endswith()\n",
    "- strip()\n",
    "- lstrip()\n",
    "- rstrip()\n",
    "- split()\n",
    "- isspace()"
   ]
  },
  {
   "cell_type": "code",
   "execution_count": 22,
   "metadata": {},
   "outputs": [
    {
     "name": "stdout",
     "output_type": "stream",
     "text": [
      "15\n",
      "12\n",
      "26\n",
      "False\n",
      "True\n",
      "convert to lower\n",
      "COVERT TO UPPER\n",
      "sWAP mY cASE\n",
      "Title Me\n",
      "Capitalize me duke\n",
      "True\n",
      "False\n",
      "8\n",
      "False\n",
      "True\n",
      "Strip $ from start and end\n",
      "Remove all $ from left$\n",
      "$$$$Remove only $ from right$$$$$please\n",
      "['Split', 'Me', 'On', 'The', 'Base', 'Of', 'Space']\n",
      "True\n"
     ]
    }
   ],
   "source": [
    "string1 = \"This is a test String\"\n",
    "print(string1.index(\"S\"))    # \"S\" occurs at index 15\n",
    "\n",
    "string2 = \"I will find smaller s's first occurence\"\n",
    "print(string2.find(\"s\"))   # small s occurs first at index 12 in word smaller\n",
    "\n",
    "string3 = \"I will find smaller s's last occurence\"\n",
    "print(string3.rfind(\"s\"))   # small s occurs last at index 26 in word last\n",
    "\n",
    "string4 = \"Contains only alphabets\"\n",
    "print(string4.isalpha())   # checks is string contains alphabets \n",
    "\n",
    "string5 = \"123456\"\n",
    "print(string5.isdigit())  # checks only for digits\n",
    "\n",
    "string6 = \"CONVERT TO LOWER\"\n",
    "print(string6.lower())  #lowercase\n",
    "\n",
    "string7 = \"COVERT TO UPPER\"\n",
    "print(string7.upper())  # uppercase\n",
    "\n",
    "string8 = \"Swap My Case\"\n",
    "print(string8.swapcase())  # swap case: upper to lower and vice versa\n",
    "\n",
    "string9 = \"title me\"\n",
    "print(string9.title())  # title case\n",
    "\n",
    "string10 = \"CAPITALIZE ME DUKE\"\n",
    "print(string10.capitalize()) # first letter capital\n",
    "\n",
    "string11 = \"1290\"\n",
    "print(string11.isdecimal())  # is a decimal number\n",
    "\n",
    "string12 =  \"I am a 100 percent alphanumeric\"\n",
    "print(string12.isalnum()) #  checks is string contains alphabets and numbers only\n",
    "\n",
    "string13 = \"123333111111199999\"\n",
    "print(string13.count(\"1\"))   #count 1's occurence\n",
    "\n",
    "string14 = \" Do I start with a Do?\"\n",
    "print(string14.startswith(\"Do\"))   # check if a string starts with another string\n",
    "\n",
    "string15 = \"I am ending with a pause\"\n",
    "print(string15.endswith(\"a pause\"))    # check if a string ends with another string\n",
    "\n",
    "string16 = \"$$$$$Strip $ from start and end$$$$$$\"\n",
    "print(string16.strip(\"$\"))  # remove from end\n",
    "\n",
    "string17 = \"$$$$Remove all $ from left$\"\n",
    "print(string17.lstrip(\"$\"))   # remove from left\n",
    "\n",
    "string18 = \"$$$$Remove only $ from right$$$$$please$$$\"\n",
    "print(string18.rstrip(\"$\"))    # remove from right\n",
    "\n",
    "string19 = \"Split Me On The Base Of Space\"\n",
    "print(string19.split(\" \"))   # splitting and generating a list\n",
    "\n",
    "string20 = \" \\t \\n \\t \"\n",
    "print(string20.isspace())   # contains only whitespaces"
   ]
  },
  {
   "cell_type": "markdown",
   "metadata": {},
   "source": [
    "# ANSWER 3\n",
    "## Program to check anagram and palindrome"
   ]
  },
  {
   "cell_type": "code",
   "execution_count": 23,
   "metadata": {},
   "outputs": [
    {
     "name": "stdout",
     "output_type": "stream",
     "text": [
      "Enter string 1:OLDS\n",
      "Enter string 2:SOLD\n",
      "\n",
      "Check Anagram\n",
      "String OLDS and string SOLD are anagrams of each other\n",
      "\n",
      "Check Palindrome\n",
      "String OLDS is not palindrome\n",
      "String SOLD is not palindrome\n"
     ]
    }
   ],
   "source": [
    "# lets take two strings\n",
    "\n",
    "string_1 = input(\"Enter string 1:\")\n",
    "string_2 = input(\"Enter string 2:\")\n",
    "\n",
    "# function to check anagram\n",
    "\n",
    "def check_anagram(s1, s2):\n",
    "    \"\"\"Two strings are anagram if after sorting them, they become equal\"\"\"\n",
    "    \n",
    "    sorted_s1 = sorted(s1)\n",
    "    sorted_s2 = sorted(s2)\n",
    "    \n",
    "    if sorted_s1 == sorted_s2:\n",
    "        print(\"String\", s1, \"and\", \"string\", s2, \"are anagrams of each other\")\n",
    "    else:\n",
    "        print(\"String\", s1, \"and\", \"string\", s2, \"are not anagrams of each other\")\n",
    "        \n",
    "# function to check palindrome\n",
    "\n",
    "def check_palindrome(s1):\n",
    "    \"\"\"Two strings are palindrome if one is reverse of other\"\"\"\n",
    "    s2 = s1[::-1]\n",
    "    \n",
    "    if s1 == s2:\n",
    "        print(\"String\", s1, \"is palindrome\")\n",
    "    else:\n",
    "        print(\"String\", s1, \"is not palindrome\")\n",
    "        \n",
    "print()\n",
    "print(\"Check Anagram\")\n",
    "check_anagram(string_1, string_2)\n",
    "print()\n",
    "print(\"Check Palindrome\")\n",
    "check_palindrome(string_1)\n",
    "check_palindrome(string_2)"
   ]
  },
  {
   "cell_type": "code",
   "execution_count": 26,
   "metadata": {},
   "outputs": [
    {
     "name": "stdout",
     "output_type": "stream",
     "text": [
      "Enter string 1:listen\n",
      "Enter string 2:silent\n",
      "\n",
      "Check Anagram\n",
      "String listen and string silent are anagrams of each other\n",
      "\n",
      "Check Palindrome\n",
      "String listen is not palindrome\n",
      "String silent is not palindrome\n"
     ]
    }
   ],
   "source": [
    "\n",
    "string_1 = input(\"Enter string 1:\")\n",
    "string_2 = input(\"Enter string 2:\")\n",
    "print()\n",
    "print(\"Check Anagram\")\n",
    "check_anagram(string_1, string_2)\n",
    "print()\n",
    "print(\"Check Palindrome\")\n",
    "check_palindrome(string_1)\n",
    "check_palindrome(string_2)"
   ]
  },
  {
   "cell_type": "code",
   "execution_count": null,
   "metadata": {},
   "outputs": [],
   "source": []
  },
  {
   "cell_type": "markdown",
   "metadata": {},
   "source": [
    "# ANSWER 4\n",
    "## Program to remove all extra characters and convert to lowercase"
   ]
  },
  {
   "cell_type": "code",
   "execution_count": 27,
   "metadata": {},
   "outputs": [
    {
     "name": "stdout",
     "output_type": "stream",
     "text": [
      "Enter a string: Darshan Ingle Sir @ AI / ML Program is 100% Awesome\n",
      "The final output is: \n",
      "darshaninglesiraimlprogramisawesome\n"
     ]
    }
   ],
   "source": [
    "# getting user input\n",
    "string = input('Enter a string: ')\n",
    "\n",
    "# stores output\n",
    "output = \"\"\n",
    "\n",
    "# for each character in string add it to output\n",
    "# if it is alphabet after lowering it\n",
    "\n",
    "for char in string:\n",
    "    if char.isalpha():\n",
    "        output += char.lower()\n",
    "\n",
    "# printing result        \n",
    "print(\"The final output is: \")\n",
    "print(output)"
   ]
  },
  {
   "cell_type": "code",
   "execution_count": null,
   "metadata": {},
   "outputs": [],
   "source": []
  },
  {
   "cell_type": "markdown",
   "metadata": {},
   "source": [
    "## DAY 5 ASSIGNMENT\n",
    "### DONE BY AKASH MAJI, akashmaji946@gmail.com"
   ]
  },
  {
   "cell_type": "code",
   "execution_count": null,
   "metadata": {},
   "outputs": [],
   "source": []
  }
 ],
 "metadata": {
  "kernelspec": {
   "display_name": "Python 3",
   "language": "python",
   "name": "python3"
  },
  "language_info": {
   "codemirror_mode": {
    "name": "ipython",
    "version": 3
   },
   "file_extension": ".py",
   "mimetype": "text/x-python",
   "name": "python",
   "nbconvert_exporter": "python",
   "pygments_lexer": "ipython3",
   "version": "3.7.0"
  }
 },
 "nbformat": 4,
 "nbformat_minor": 2
}
